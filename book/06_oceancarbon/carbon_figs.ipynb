{
 "cells": [
  {
   "cell_type": "code",
   "execution_count": null,
   "metadata": {},
   "outputs": [],
   "source": [
    "import numpy as np\n",
    "import cbsyst as cb\n",
    "import matplotlib.pyplot as plt"
   ]
  },
  {
   "attachments": {},
   "cell_type": "markdown",
   "metadata": {},
   "source": [
    "## K<sub>0</sub>"
   ]
  },
  {
   "cell_type": "code",
   "execution_count": null,
   "metadata": {},
   "outputs": [],
   "source": [
    "T = np.arange(-2, 30, 0.1)\n",
    "Ks_35 = cb.calc_Ks(T=T, S=35)\n",
    "Ks_30 = cb.calc_Ks(T=T, S=30)"
   ]
  },
  {
   "cell_type": "code",
   "execution_count": null,
   "metadata": {},
   "outputs": [],
   "source": [
    "fig, ax = plt.subplots(constrained_layout=True)\n",
    "\n",
    "ax.plot(T, Ks_30.K0, label='S=30')\n",
    "ax.plot(T, Ks_35.K0, label='S=35')\n",
    "\n",
    "ax.legend()\n",
    "\n",
    "ax.set_xlabel('Temperature (°C)')\n",
    "ax.set_ylabel(\"Henry's Constant for $CO_2~(K_0)$\")\n",
    "\n",
    "fig.savefig('figures/carbon_K0.png')"
   ]
  },
  {
   "attachments": {},
   "cell_type": "markdown",
   "metadata": {},
   "source": [
    "## Bjerrum Plot"
   ]
  },
  {
   "cell_type": "code",
   "execution_count": null,
   "metadata": {},
   "outputs": [],
   "source": [
    "pH = np.linspace(4, 11)\n",
    "\n",
    "sw = cb.Csys(pHtot=pH, DIC=2000)\n",
    "\n",
    "fig, ax = plt.subplots(constrained_layout=True)\n",
    "\n",
    "ax.plot(sw.pHtot, sw.CO2, label='$CO_2^*$', lw=2)\n",
    "ax.plot(sw.pHtot, sw.HCO3, label='$HCO_3^-$', lw=2)\n",
    "ax.plot(sw.pHtot, sw.CO3, label='$CO_3^{2-}$', lw=2)\n",
    "\n",
    "ax.set_xlim(pH.min(), pH.max())\n",
    "\n",
    "ax.axvspan(7.9, 8.2, color='C0', alpha=0.3, lw=0)\n",
    "\n",
    "ax.legend()\n",
    "\n",
    "ax.set_xlabel('pH')\n",
    "ax.set_ylabel('Concentration (μmol/kg)')\n",
    "\n",
    "ax.axvline(-np.log10(sw.Ks.K1), ls='--', color=(0,0,0,0.3), lw=1)\n",
    "ax.text(-np.log10(sw.Ks.K1), 1850, '$pK_1$', ha='center', va='bottom', color=(0,0,0,0.3), backgroundcolor='w', fontsize=10)\n",
    "ax.axvline(-np.log10(sw.Ks.K2), ls='--', color=(0,0,0,0.3), lw=1)\n",
    "ax.text(-np.log10(sw.Ks.K2), 1850, '$pK_2$', ha='center', va='bottom', color=(0,0,0,0.3), backgroundcolor='w', fontsize=10)\n",
    "\n",
    "fig.savefig('figures/carbon_bjerrum.png')"
   ]
  },
  {
   "attachments": {},
   "cell_type": "markdown",
   "metadata": {},
   "source": [
    "## K0K1K2"
   ]
  },
  {
   "cell_type": "code",
   "execution_count": null,
   "metadata": {},
   "outputs": [],
   "source": [
    "T = np.arange(-2, 30, 0.1)\n",
    "Ks_35 = cb.calc_Ks(T=T, S=35)\n",
    "Ks_30 = cb.calc_Ks(T=T, S=30)"
   ]
  },
  {
   "cell_type": "code",
   "execution_count": null,
   "metadata": {},
   "outputs": [],
   "source": [
    "pH = np.linspace(4, 11)\n",
    "\n",
    "sw_30 = cb.Csys(pHtot=pH, DIC=2000, T_in=30.)\n",
    "sw_0 = cb.Csys(pHtot=pH, DIC=2000, T_in=0.)\n",
    "\n",
    "fig, ax = plt.subplots(constrained_layout=True)\n",
    "\n",
    "for sw, ls, lw, alpha in zip([sw_30, sw_0], ['-', '--'], [1,1], [.6, 1]):\n",
    "\n",
    "    ax.plot(sw.pHtot, sw.CO2, color='C0', ls=ls, lw=lw, alpha=alpha)\n",
    "    ax.plot(sw.pHtot, sw.HCO3, color='C1', ls=ls, lw=lw, alpha=alpha)\n",
    "    ax.plot(sw.pHtot, sw.CO3, color='C2', ls=ls, lw=lw, alpha=alpha)\n",
    "\n",
    "    \n",
    "    ax.axvline(-np.log10(sw.Ks.K1), ls=ls, color=(0,0,0,0.2), lw=lw)\n",
    "    ax.axvline(-np.log10(sw.Ks.K2), ls=ls, color=(0,0,0,0.2), lw=lw)\n",
    "\n",
    "ax.text(-np.log10(sw.Ks.K1), 1850, '$pK_1$', ha='center', va='bottom', color=(0,0,0,0.3), backgroundcolor='w', fontsize=10)\n",
    "ax.text(-np.log10(sw.Ks.K2), 1850, '$pK_2$', ha='center', va='bottom', color=(0,0,0,0.3), backgroundcolor='w', fontsize=10)\n",
    "\n",
    "ax.plot([],[],label='$CO_2^*$',color='C0')\n",
    "ax.plot([],[],label='$HCO_3^-$',color='C1')\n",
    "ax.plot([],[],label='$CO_3^{2-}$',color='C2')\n",
    "ax.plot([],[],label='T=30°C',color=(0,0,0,0.3), lw=1, ls='-')\n",
    "ax.plot([],[],label='T=0°C',color=(0,0,0,0.3), lw=1, ls='--')\n",
    "\n",
    "ax.set_xlim(pH.min(), pH.max())\n",
    "ax.set_xlabel('pH')\n",
    "ax.set_ylabel('Concentration (μmol/kg)')\n",
    "\n",
    "\n",
    "ax.legend(fontsize=8)\n",
    "\n",
    "fig.savefig('figures/carbon_bjerrum_temp.png')"
   ]
  },
  {
   "cell_type": "markdown",
   "metadata": {},
   "source": [
    "## pCO2 vs pH"
   ]
  },
  {
   "cell_type": "code",
   "execution_count": null,
   "metadata": {},
   "outputs": [],
   "source": [
    "fig, ax = plt.subplots(constrained_layout=True)\n",
    "\n",
    "for T, ls in zip([0, 30], ['--', '-']):\n",
    "    swC = cb.Csys(pCO2=np.linspace(250, 450), TA=2300, T_in=T)\n",
    "\n",
    "    ax.plot(swC.pCO2, swC.pHtot, color='k', ls=ls)\n",
    "\n",
    "\n",
    "ax.plot([],[],label='T=30°C',color=(0,0,0,0.3), lw=1, ls='-')\n",
    "ax.plot([],[],label='T=0°C',color=(0,0,0,0.3), lw=1, ls='--')\n",
    "\n",
    "ax.axvspan(418,422, lw=0, alpha=0.3, color='C1')\n",
    "ax.text(415, 7.99, 'Modern', ha='right', va='bottom', fontsize=10, color='C1')\n",
    "ax.axvspan(268,272, lw=0, alpha=0.3, color='C0')\n",
    "ax.text(275, 8.2, 'Pre-Industrial', ha='left', va='bottom', fontsize=10, color='C0')\n",
    "\n",
    "ax.set_xlim(250, 450)\n",
    "\n",
    "ax.legend(fontsize=8)\n",
    "\n",
    "ax.set_ylabel('pH')\n",
    "ax.set_xlabel('$pCO_2$ (ppm)')\n",
    "\n",
    "fig.savefig('figures/carbon-pCO2-pH.png')"
   ]
  },
  {
   "attachments": {},
   "cell_type": "markdown",
   "metadata": {},
   "source": [
    "## pCO2 vs DIC"
   ]
  },
  {
   "cell_type": "code",
   "execution_count": null,
   "metadata": {},
   "outputs": [],
   "source": [
    "fig, ax = plt.subplots(constrained_layout=True)\n",
    "\n",
    "for T, ls in zip([0, 30], ['--', '-']):\n",
    "    swC = cb.Csys(pCO2=np.linspace(50, 600), TA=2300, T_in=T)\n",
    "\n",
    "    ax.plot(swC.pCO2, swC.CO2, color='C0', ls=ls)\n",
    "    ax.plot(swC.pCO2, swC.HCO3, color='C1', ls=ls)\n",
    "    ax.plot(swC.pCO2, swC.CO3, color='C2', ls=ls)\n",
    "    ax.plot(swC.pCO2, swC.DIC, color='k', ls=ls)\n",
    "\n",
    "\n",
    "ax.plot([], [], label='$CO_2^*$')\n",
    "ax.plot([], [], label='$HCO_3^-$')\n",
    "ax.plot([], [], label='$CO_3^{2-}$')\n",
    "ax.plot([], [], color='k', label='DIC')\n",
    "ax.plot([],[],label='T=30°C',color=(0,0,0,0.3), lw=1, ls='-')\n",
    "ax.plot([],[],label='T=0°C',color=(0,0,0,0.3), lw=1, ls='--')\n",
    "    \n",
    "ax.legend(fontsize=8)\n",
    "\n",
    "ax.set_xlim(50, 600)\n",
    "\n",
    "ax.axvspan(418,422, lw=0, alpha=0.3, color='C1')\n",
    "ax.text(415, 1000, 'Modern', ha='right', va='bottom', fontsize=8, color='C1')\n",
    "ax.axvspan(268,272, lw=0, alpha=0.3, color='C0')\n",
    "ax.text(275, 800, 'Pre-Industrial', ha='left', va='bottom', fontsize=8, color='C0')\n",
    "\n",
    "\n",
    "ax.set_ylabel('Concentration (μmol/kg)')\n",
    "ax.set_xlabel('$pCO_2$ (ppm)')\n",
    "\n",
    "fig.savefig('figures/carbon-pCO2-DIC.png')"
   ]
  },
  {
   "cell_type": "code",
   "execution_count": null,
   "metadata": {},
   "outputs": [],
   "source": []
  },
  {
   "cell_type": "code",
   "execution_count": null,
   "metadata": {},
   "outputs": [],
   "source": [
    "\n",
    "\n",
    "# plt.plot(sw.T_in, 420 * sw.Ks.K0)\n",
    "# plt.plot(sw.T_in, sw.CO2)\n",
    "\n",
    "plt.plot(sw.T_in, sw.DIC)\n"
   ]
  },
  {
   "attachments": {},
   "cell_type": "markdown",
   "metadata": {},
   "source": [
    "## pCO2 vs. DIC"
   ]
  },
  {
   "cell_type": "code",
   "execution_count": null,
   "metadata": {},
   "outputs": [],
   "source": [
    "100 * cb.Csys(pHtot=8.1, DIC=2000).CO2 / 2000"
   ]
  },
  {
   "attachments": {},
   "cell_type": "markdown",
   "metadata": {},
   "source": [
    "Meaning of $\\tau$\n",
    "\n",
    "$$\n",
    "\\frac{dC}{dt} = \\frac{1}{\\tau} ( C_0 - C)\n",
    "$$"
   ]
  },
  {
   "cell_type": "code",
   "execution_count": 3,
   "metadata": {},
   "outputs": [
    {
     "data": {
      "image/png": "[encoded data removed]",
      "text/plain": [
       "<Figure size 727.5x450 with 1 Axes>"
      ]
     },
     "metadata": {},
     "output_type": "display_data"
    }
   ],
   "source": [
    "D0 = 1\n",
    "\n",
    "t = np.linspace(0, 10, 100)\n",
    "\n",
    "tau = 2\n",
    "\n",
    "\n",
    "for tau in [0.5, 1,2,4]:\n",
    "    plt.plot(t, D0 * np.exp(-t / tau), label=f'{tau:.1f}')\n",
    "    \n",
    "plt.legend(title='$\\\\tau$')\n",
    "plt.ylabel('$\\Delta C$')\n",
    "plt.xlabel('time')\n",
    "\n",
    "plt.tight_layout()\n",
    "plt.savefig('figures/carbon-tau.png')"
   ]
  }
 ],
 "metadata": {
  "kernelspec": {
   "display_name": "py3",
   "language": "python",
   "name": "python3"
  },
  "language_info": {
   "codemirror_mode": {
    "name": "ipython",
    "version": 3
   },
   "file_extension": ".py",
   "mimetype": "text/x-python",
   "name": "python",
   "nbconvert_exporter": "python",
   "pygments_lexer": "ipython3",
   "version": "3.10.9"
  },
  "orig_nbformat": 4,
  "vscode": {
   "interpreter": {
    "hash": "84814654d570b6154e7b50c8056efce277704a871910502b770b2390c99a6345"
   }
  }
 },
 "nbformat": 4,
 "nbformat_minor": 2
}
