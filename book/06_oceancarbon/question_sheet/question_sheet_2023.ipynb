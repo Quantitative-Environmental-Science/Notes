{
 "cells": [
  {
   "attachments": {},
   "cell_type": "markdown",
   "metadata": {},
   "source": [
    "# QES Ocean Carbon Question Sheet\n",
    "\n"
   ]
  },
  {
   "cell_type": "markdown",
   "metadata": {},
   "source": [
    "1. What are the three main processes that interact with ocean circulation to set the concentration and distribution of carbon in the ocean. Describe how DIC, TA and pCO2 change in response to these processes."
   ]
  },
  {
   "attachments": {},
   "cell_type": "markdown",
   "metadata": {},
   "source": [
    "2. Combine Henry's Law with the definition of DIC and the dissociation reactions given in Lecture 36 (Section 7.2 in the online notes) to derive an expression to calculate the concentration of DIC in seawater as a function of pCO2, [H+] and the equilibrium constants K_0, K_1 and K_2.\n",
    "\n",
    "$$\n",
    "\\begin{align}\n",
    "K_0 &= \\frac{[CO_2^*]}{pCO_2} \\\\\n",
    "K_1 &= \\frac{[H+][HCO_3^{-}]}{[CO_2^*]} \\\\\n",
    "K_2 &= \\frac{[H+][CO_3^{2-}]}{[HCO_3^{-}]}\n",
    "\\end{align}\n",
    "$$\n",
    "\n",
    "$$\n",
    "\\begin{align}\n",
    "DIC &= [CO_2^*] + [HCO_3^-] + [CO_3^{2-}] \\\\\n",
    "&= [CO_2^*] + [HCO_3^-] + \\frac{K_2 [HCO_3^-]}{[H^+]} & \\mathrm{substitute ~ [CO_3^{2-}] ~ using ~ K_2} \\\\\n",
    "&= [CO_2^*] + \\frac{K_1[CO_2^*]}{[H^+]} + \\frac{K_2 K_1 [CO_2^*]}{[H^+]^2} & \\mathrm{substitute ~ [HCO_3^{-}] ~ using ~ K_1} \\\\\n",
    "&= [CO_2^*] \\left( 1 + \\frac{K_1}{[H^+]} + \\frac{K_2 K_1}{[H^+]^2} \\right) & \\mathrm{separate ~ [CO_2^*]} \\\\\n",
    "DIC &= pCO_2~K_0 \\left( 1 + \\frac{K_1}{[H^+]} + \\frac{K_2 K_1}{[H^+]^2} \\right) & \\mathrm{substitute ~ [CO_2^*] ~ using ~ K_0}\n",
    "\\end{align}\n",
    "$$\n",
    "\n"
   ]
  },
  {
   "attachments": {},
   "cell_type": "markdown",
   "metadata": {},
   "source": [
    "3. Calculate the PgC of carbon in a homogeneous ocean at 16C at a pCO2 of 280 (pre-industrial) and 420 (present day) ppm. Use values of K0=0.0365, K1=1.175e-6, K2=7.720e-10. The mass of water in the ocean is 1.35 x10^21 kg. How does this compare to the amount of carbon in the ocean?"
   ]
  },
  {
   "cell_type": "code",
   "execution_count": 8,
   "metadata": {},
   "outputs": [],
   "source": [
    "K0 = 0.0365\n",
    "K1 = 1.175e-6\n",
    "K2 = 7.720e-10"
   ]
  },
  {
   "cell_type": "code",
   "execution_count": 2,
   "metadata": {},
   "outputs": [],
   "source": [
    "import cbsyst as cb"
   ]
  },
  {
   "cell_type": "code",
   "execution_count": 6,
   "metadata": {},
   "outputs": [
    {
     "data": {
      "text/plain": [
       "{'K0': 0.036351615677707665,\n",
       " 'K1': 1.1752183029830892e-06,\n",
       " 'K2': 7.720448318326342e-10,\n",
       " 'KW': 2.6239793175586345e-14,\n",
       " 'KB': 1.9756730918272e-09,\n",
       " 'KS': 0.14106008179817156,\n",
       " 'KspA': 6.700778989050293e-07,\n",
       " 'KspC': 4.312855196350842e-07,\n",
       " 'KP1': 0.02492375414469307,\n",
       " 'KP2': 9.288110240682276e-07,\n",
       " 'KP3': 1.0108211260160402e-09,\n",
       " 'KSi': 2.8713766475164946e-10,\n",
       " 'KF': 0.0024771104441006194}"
      ]
     },
     "execution_count": 6,
     "metadata": {},
     "output_type": "execute_result"
    }
   ],
   "source": [
    "cb.calc_Ks(T=16, S=35, P=0)"
   ]
  }
 ],
 "metadata": {
  "kernelspec": {
   "display_name": "py3",
   "language": "python",
   "name": "python3"
  },
  "language_info": {
   "codemirror_mode": {
    "name": "ipython",
    "version": 3
   },
   "file_extension": ".py",
   "mimetype": "text/x-python",
   "name": "python",
   "nbconvert_exporter": "python",
   "pygments_lexer": "ipython3",
   "version": "3.10.9"
  },
  "orig_nbformat": 4,
  "vscode": {
   "interpreter": {
    "hash": "84814654d570b6154e7b50c8056efce277704a871910502b770b2390c99a6345"
   }
  }
 },
 "nbformat": 4,
 "nbformat_minor": 2
}
